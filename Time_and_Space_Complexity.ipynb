{
  "nbformat": 4,
  "nbformat_minor": 0,
  "metadata": {
    "colab": {
      "name": "Time and Space Complexity.ipynb",
      "provenance": [],
      "mount_file_id": "1Np1UzbUkPdjxluDaLuLyv18sPBTM6D9Y",
      "authorship_tag": "ABX9TyNsRVFkPN3dvCmtRMTs+dWD",
      "include_colab_link": true
    },
    "kernelspec": {
      "name": "python3",
      "display_name": "Python 3"
    }
  },
  "cells": [
    {
      "cell_type": "markdown",
      "metadata": {
        "id": "view-in-github",
        "colab_type": "text"
      },
      "source": [
        "<a href=\"https://colab.research.google.com/github/shubhamp05/Python-for-Algorithms--Data-Structures--and-Interviews/blob/master/Time_and_Space_Complexity.ipynb\" target=\"_parent\"><img src=\"https://colab.research.google.com/assets/colab-badge.svg\" alt=\"Open In Colab\"/></a>"
      ]
    },
    {
      "cell_type": "markdown",
      "metadata": {
        "id": "I-VJvnbBNnLV",
        "colab_type": "text"
      },
      "source": [
        "Attached is the link to the cheatsheet for the time and space complexity overview for different data structures, assume one have the basic understanding of how to derive them at the first place."
      ]
    },
    {
      "cell_type": "code",
      "metadata": {
        "id": "wNXXgdcDNgBJ",
        "colab_type": "code",
        "colab": {}
      },
      "source": [
        "#https://www.bigocheatsheet.com/"
      ],
      "execution_count": 0,
      "outputs": []
    }
  ]
}